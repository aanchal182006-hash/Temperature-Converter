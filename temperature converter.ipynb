{
 "cells": [
  {
   "cell_type": "code",
   "execution_count": 1,
   "id": "670208de-2426-4d23-ac26-53ad1cedd51e",
   "metadata": {},
   "outputs": [],
   "source": [
    "import tkinter as tk\n",
    "from tkinter import ttk\n",
    "\n",
    "def convert_temperature():\n",
    "    try:\n",
    "        temp = float(entry_temp.get())\n",
    "        if temp_type.get() == \"Celsius to Fahrenheit\":\n",
    "            result = (temp * 9/5) + 32\n",
    "            result_label.config(text=f\"{result:.2f} °F\")\n",
    "        else:\n",
    "            result = (temp - 32) * 5/9\n",
    "            result_label.config(text=f\"{result:.2f} °C\")\n",
    "    except ValueError:\n",
    "        result_label.config(text=\"Enter a valid number\")\n",
    "\n",
    "# Window setup\n",
    "window = tk.Tk()\n",
    "window.title(\"Celsius and Fahrenheit Converter\")\n",
    "window.geometry(\"350x200\")\n",
    "window.configure(bg=\"#f0f8ff\")\n",
    "\n",
    "# Widgets\n",
    "title_label = tk.Label(window, text=\"Temperature Converter\", font=(\"Arial\", 14, \"bold\"), bg=\"#f0f8ff\")\n",
    "title_label.pack(pady=10)\n",
    "\n",
    "entry_temp = tk.Entry(window, font=(\"Arial\", 12))\n",
    "entry_temp.pack()\n",
    "\n",
    "temp_type = ttk.Combobox(window, values=[\"Celsius to Fahrenheit\", \"Fahrenheit to Celsius\"], state=\"readonly\", font=(\"Arial\", 11))\n",
    "temp_type.set(\"Celsius to Fahrenheit\")\n",
    "temp_type.pack(pady=10)\n",
    "\n",
    "convert_button = tk.Button(window, text=\"Convert\", command=convert_temperature, font=(\"Arial\", 11), bg=\"#add8e6\")\n",
    "convert_button.pack()\n",
    "\n",
    "result_label = tk.Label(window, text=\"\", font=(\"Arial\", 12), bg=\"#f0f8ff\")\n",
    "result_label.pack(pady=10)\n",
    "\n",
    "window.mainloop()"
   ]
  },
  {
   "cell_type": "code",
   "execution_count": null,
   "id": "b2669864-dc16-4bf6-9796-a9e815300d15",
   "metadata": {},
   "outputs": [],
   "source": [
    "\n"
   ]
  }
 ],
 "metadata": {
  "kernelspec": {
   "display_name": "Python 3 (ipykernel)",
   "language": "python",
   "name": "python3"
  },
  "language_info": {
   "codemirror_mode": {
    "name": "ipython",
    "version": 3
   },
   "file_extension": ".py",
   "mimetype": "text/x-python",
   "name": "python",
   "nbconvert_exporter": "python",
   "pygments_lexer": "ipython3",
   "version": "3.13.5"
  }
 },
 "nbformat": 4,
 "nbformat_minor": 5
}
